{
 "cells": [
  {
   "cell_type": "markdown",
   "metadata": {},
   "source": [
    "## Unit Testing"
   ]
  },
  {
   "cell_type": "code",
   "execution_count": 1,
   "metadata": {},
   "outputs": [],
   "source": [
    "import numpy as np\n",
    "import pandas as pd"
   ]
  },
  {
   "cell_type": "markdown",
   "metadata": {},
   "source": [
    "### Prediction Model"
   ]
  },
  {
   "cell_type": "code",
   "execution_count": 2,
   "metadata": {},
   "outputs": [],
   "source": [
    "def pred(X,w,b):\n",
    "    y_pred = np.dot(X,w)+b\n",
    "    return y_pred"
   ]
  },
  {
   "cell_type": "markdown",
   "metadata": {},
   "source": [
    "### Cost Function"
   ]
  },
  {
   "cell_type": "code",
   "execution_count": 3,
   "metadata": {},
   "outputs": [],
   "source": [
    "def compute_cost(X,y,w,b):\n",
    "\n",
    "    m,n = X.shape\n",
    "    sum_cost = 0\n",
    "\n",
    "    y_pred = pred(X,w,b)\n",
    "    cost = (y_pred - y)**2\n",
    "\n",
    "    for i in range(m):\n",
    "        sum_cost+= cost[i]\n",
    "    \n",
    "    total_cost = (sum_cost)/(2*m)\n",
    "    return total_cost"
   ]
  },
  {
   "cell_type": "code",
   "execution_count": 4,
   "metadata": {},
   "outputs": [
    {
     "name": "stdout",
     "output_type": "stream",
     "text": [
      "[19.875]\n"
     ]
    }
   ],
   "source": [
    "# Dummy Data\n",
    "X = np.array([[1,2,3],[4,5,6],[7,8,9],[10,11,12]])\n",
    "y = np.array([[20],[30],[40],[45]])\n",
    "w_init = np.array([[0],[1],[3]])\n",
    "b_init = 0\n",
    "num_iterations = 10000\n",
    "alpha = 0.001\n",
    "\n",
    "cost = compute_cost(X,y,w_init,b_init)\n",
    "print(cost)\n"
   ]
  },
  {
   "cell_type": "markdown",
   "metadata": {},
   "source": [
    "The prediction and cost function are working correctly"
   ]
  },
  {
   "cell_type": "markdown",
   "metadata": {},
   "source": [
    "------"
   ]
  },
  {
   "cell_type": "markdown",
   "metadata": {},
   "source": [
    "### Derivatives (Gradient Descent)"
   ]
  },
  {
   "cell_type": "code",
   "execution_count": 5,
   "metadata": {},
   "outputs": [],
   "source": [
    "def deriv(X,y,w,b):\n",
    "    m,n = X.shape\n",
    "    sum_cost_w =  np.zeros((n,1))\n",
    "    sum_cost_b = 0\n",
    "\n",
    "    y_pred = pred(X,w,b)\n",
    "    cost = (y_pred - y)\n",
    "    \n",
    "    for i in range(m):\n",
    "        for j in range(n):\n",
    "            sum_cost_w[j] += cost[i] * X[i,j]\n",
    "        \n",
    "        sum_cost_b += cost[i]\n",
    "    \n",
    "    dj_dw = sum_cost_w/m\n",
    "    dj_db = sum_cost_b/m\n",
    "    \n",
    "    return dj_dw, dj_db\n",
    "\n",
    "    "
   ]
  },
  {
   "cell_type": "code",
   "execution_count": 6,
   "metadata": {},
   "outputs": [
    {
     "name": "stdout",
     "output_type": "stream",
     "text": [
      "[[-13.  ]\n",
      " [-17.75]\n",
      " [-22.5 ]]\n",
      "[-4.75]\n"
     ]
    }
   ],
   "source": [
    "dj_dw, dj_db = deriv(X,y,w_init,b_init)\n",
    "print(dj_dw)\n",
    "print(dj_db)"
   ]
  },
  {
   "cell_type": "markdown",
   "metadata": {},
   "source": [
    "The gradient(derivative) is working correctly"
   ]
  },
  {
   "cell_type": "markdown",
   "metadata": {},
   "source": [
    "-------"
   ]
  },
  {
   "cell_type": "markdown",
   "metadata": {},
   "source": [
    "### Gradient Descent"
   ]
  },
  {
   "cell_type": "code",
   "execution_count": 7,
   "metadata": {},
   "outputs": [],
   "source": [
    "import math\n",
    "\n",
    "def gradient(X,y,w,b,alpha,num_iterations):\n",
    "\n",
    "    J_history = []\n",
    "\n",
    "    for i in range(num_iterations): \n",
    "        dj_dw, dj_db = deriv(X,y,w,b)\n",
    "\n",
    "        w = w - alpha * dj_dw               \n",
    "        b = b - alpha * dj_db    \n",
    "\n",
    "        if i<100000:      # prevent resource exhaustion \n",
    "            J_history.append(compute_cost(X, y, w, b))\n",
    "        \n",
    "        if i% math.ceil(num_iterations / 10) == 0:\n",
    "            print(f\"Iteration {i:4d}: Cost {float(J_history[-1]):8.2f}\")\n",
    "\n",
    "    return w,b, J_history\n"
   ]
  },
  {
   "cell_type": "code",
   "execution_count": 8,
   "metadata": {},
   "outputs": [
    {
     "name": "stdout",
     "output_type": "stream",
     "text": [
      "Iteration    0: Cost    18.94\n",
      "Iteration 1000: Cost     5.51\n",
      "Iteration 2000: Cost     2.26\n"
     ]
    },
    {
     "name": "stderr",
     "output_type": "stream",
     "text": [
      "C:\\Users\\ACER\\AppData\\Local\\Temp\\ipykernel_7552\\3222459118.py:17: DeprecationWarning: Conversion of an array with ndim > 0 to a scalar is deprecated, and will error in future. Ensure you extract a single element from your array before performing this operation. (Deprecated NumPy 1.25.)\n",
      "  print(f\"Iteration {i:4d}: Cost {float(J_history[-1]):8.2f}\")\n"
     ]
    },
    {
     "name": "stdout",
     "output_type": "stream",
     "text": [
      "Iteration 3000: Cost     1.32\n",
      "Iteration 4000: Cost     1.05\n",
      "Iteration 5000: Cost     0.97\n",
      "Iteration 6000: Cost     0.95\n",
      "Iteration 7000: Cost     0.94\n",
      "Iteration 8000: Cost     0.94\n",
      "Iteration 9000: Cost     0.94\n",
      "[[-4.4908385 ]\n",
      " [ 0.61210705]\n",
      " [ 6.7150526 ]] [4.10294555]\n"
     ]
    }
   ],
   "source": [
    "w,b,J_history = gradient(X,y,w_init,b_init,alpha,num_iterations)\n",
    "print(w,b)"
   ]
  },
  {
   "cell_type": "markdown",
   "metadata": {},
   "source": [
    "The Gradient Descent is working correctly"
   ]
  },
  {
   "cell_type": "markdown",
   "metadata": {},
   "source": [
    "--------"
   ]
  },
  {
   "cell_type": "code",
   "execution_count": 9,
   "metadata": {},
   "outputs": [
    {
     "data": {
      "image/png": "[encoded data removed]",
      "text/plain": [
       "<Figure size 1200x400 with 2 Axes>"
      ]
     },
     "metadata": {},
     "output_type": "display_data"
    }
   ],
   "source": [
    "# plot cost versus iteration  \n",
    "from matplotlib import pyplot as plt\n",
    "\n",
    "\n",
    "fig, (ax1, ax2) = plt.subplots(1, 2, constrained_layout=True, figsize=(12, 4))\n",
    "ax1.plot(J_history)\n",
    "ax2.plot(100 + np.arange(len(J_history[100:])), J_history[100:])\n",
    "ax1.set_title(\"Cost vs. iteration\");  ax2.set_title(\"Cost vs. iteration (tail)\")\n",
    "ax1.set_ylabel('Cost')             ;  ax2.set_ylabel('Cost') \n",
    "ax1.set_xlabel('iteration step')   ;  ax2.set_xlabel('iteration step') \n",
    "plt.show()"
   ]
  },
  {
   "cell_type": "markdown",
   "metadata": {},
   "source": [
    "### Conclusion\n",
    "\n",
    "Unit Testing is Successfull"
   ]
  }
 ],
 "metadata": {
  "kernelspec": {
   "display_name": "Python 3",
   "language": "python",
   "name": "python3"
  },
  "language_info": {
   "codemirror_mode": {
    "name": "ipython",
    "version": 3
   },
   "file_extension": ".py",
   "mimetype": "text/x-python",
   "name": "python",
   "nbconvert_exporter": "python",
   "pygments_lexer": "ipython3",
   "version": "3.11.4"
  }
 },
 "nbformat": 4,
 "nbformat_minor": 2
}
